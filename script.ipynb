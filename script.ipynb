{
 "cells": [
  {
   "cell_type": "code",
   "execution_count": 13,
   "metadata": {},
   "outputs": [],
   "source": [
    "#https://www.postgresqltutorial.com/postgresql-python/connect/\n",
    "#https://www.youtube.com/watch?v=OOSl2jeAA5U"
   ]
  },
  {
   "cell_type": "code",
   "execution_count": 14,
   "metadata": {},
   "outputs": [],
   "source": [
    "import psycopg2\n",
    "import psycopg2.extras"
   ]
  },
  {
   "cell_type": "code",
   "execution_count": 15,
   "metadata": {},
   "outputs": [],
   "source": [
    "conn = psycopg2.connect(\"dbname=suppliers user=postgres password=password\") # sets updb, user/pass\n",
    "cur = conn.cursor(cursor_factory=psycopg2.extras.DictCursor) # lets execute statements create/insert"
   ]
  },
  {
   "cell_type": "code",
   "execution_count": 12,
   "metadata": {},
   "outputs": [
    {
     "ename": "DuplicateTable",
     "evalue": "relation \"student\" already exists\n",
     "output_type": "error",
     "traceback": [
      "\u001b[1;31m---------------------------------------------------------------------------\u001b[0m",
      "\u001b[1;31mDuplicateTable\u001b[0m                            Traceback (most recent call last)",
      "\u001b[1;32mc:\\Users\\DF\\Desktop\\Code Louisville\\postgresql-practice\\script.ipynb Cell 4'\u001b[0m in \u001b[0;36m<cell line: 2>\u001b[1;34m()\u001b[0m\n\u001b[0;32m      <a href='vscode-notebook-cell:/c%3A/Users/DF/Desktop/Code%20Louisville/postgresql-practice/script.ipynb#ch0000003?line=0'>1</a>\u001b[0m \u001b[39m# Creates Table\u001b[39;00m\n\u001b[1;32m----> <a href='vscode-notebook-cell:/c%3A/Users/DF/Desktop/Code%20Louisville/postgresql-practice/script.ipynb#ch0000003?line=1'>2</a>\u001b[0m cur\u001b[39m.\u001b[39;49mexecute(\u001b[39m\"\u001b[39;49m\u001b[39mCREATE TABLE student (id SERIAL PRIMARY KEY, name VARCHAR);\u001b[39;49m\u001b[39m\"\u001b[39;49m)  \u001b[39m#runs once\u001b[39;00m\n\u001b[0;32m      <a href='vscode-notebook-cell:/c%3A/Users/DF/Desktop/Code%20Louisville/postgresql-practice/script.ipynb#ch0000003?line=2'>3</a>\u001b[0m cur\u001b[39m.\u001b[39mexecute(\u001b[39m\"\u001b[39m\u001b[39mINSERT INTO student (name) VALUES(\u001b[39m\u001b[39m%s\u001b[39;00m\u001b[39m)\u001b[39m\u001b[39m\"\u001b[39m,(\u001b[39m\"\u001b[39m\u001b[39mAnthony\u001b[39m\u001b[39m\"\u001b[39m,)) \u001b[39m#pass in a tuple\u001b[39;00m\n\u001b[0;32m      <a href='vscode-notebook-cell:/c%3A/Users/DF/Desktop/Code%20Louisville/postgresql-practice/script.ipynb#ch0000003?line=3'>4</a>\u001b[0m cur\u001b[39m.\u001b[39mexecute(\u001b[39m\"\u001b[39m\u001b[39mINSERT INTO student (name) VALUES(\u001b[39m\u001b[39m%s\u001b[39;00m\u001b[39m)\u001b[39m\u001b[39m\"\u001b[39m,(\u001b[39m\"\u001b[39m\u001b[39mBob\u001b[39m\u001b[39m\"\u001b[39m,)) \u001b[39m#pass in a tuple\u001b[39;00m\n",
      "File \u001b[1;32mc:\\Python310\\lib\\site-packages\\psycopg2\\extras.py:146\u001b[0m, in \u001b[0;36mDictCursor.execute\u001b[1;34m(self, query, vars)\u001b[0m\n\u001b[0;32m    144\u001b[0m \u001b[39mself\u001b[39m\u001b[39m.\u001b[39mindex \u001b[39m=\u001b[39m OrderedDict()\n\u001b[0;32m    145\u001b[0m \u001b[39mself\u001b[39m\u001b[39m.\u001b[39m_query_executed \u001b[39m=\u001b[39m \u001b[39mTrue\u001b[39;00m\n\u001b[1;32m--> 146\u001b[0m \u001b[39mreturn\u001b[39;00m \u001b[39msuper\u001b[39;49m()\u001b[39m.\u001b[39;49mexecute(query, \u001b[39mvars\u001b[39;49m)\n",
      "\u001b[1;31mDuplicateTable\u001b[0m: relation \"student\" already exists\n"
     ]
    }
   ],
   "source": [
    "# Creates Table\n",
    "cur.execute(\"CREATE TABLE student (id SERIAL PRIMARY KEY, name VARCHAR);\")  #runs once\n",
    "cur.execute(\"INSERT INTO student (name) VALUES(%s)\",(\"Anthony\",)) #pass in a tuple\n",
    "cur.execute(\"INSERT INTO student (name) VALUES(%s)\",(\"Bob\",)) #pass in a tuple\n",
    "cur.execute(\"INSERT INTO student (name) VALUES(%s)\",(\"Christina\",)) #pass in a tuple"
   ]
  },
  {
   "cell_type": "code",
   "execution_count": 16,
   "metadata": {},
   "outputs": [
    {
     "name": "stdout",
     "output_type": "stream",
     "text": [
      "[[1, 'Anthony'], [2, 'Bob'], [3, 'Christina']]\n"
     ]
    }
   ],
   "source": [
    "cur.execute(\"SELECT * from student;\") #fetches all items \n",
    "print(cur.fetchall())"
   ]
  },
  {
   "cell_type": "code",
   "execution_count": 17,
   "metadata": {},
   "outputs": [
    {
     "name": "stdout",
     "output_type": "stream",
     "text": [
      "[[1, 'Anthony']]\n"
     ]
    }
   ],
   "source": [
    "cur.execute(\"SELECT * from student WHERE id = %s;\",(1,)) #fetches one item where id = 1\n",
    "print(cur.fetchall())"
   ]
  },
  {
   "cell_type": "code",
   "execution_count": 18,
   "metadata": {},
   "outputs": [
    {
     "name": "stdout",
     "output_type": "stream",
     "text": [
      "Anthony\n"
     ]
    }
   ],
   "source": [
    "#avoids closing the cursor - cant' get around closing connection\n",
    "#could also use with for connection and will commit automatically\n",
    "with conn.cursor(cursor_factory=psycopg2.extras.DictCursor) as cur: \n",
    "    cur.execute(\"SELECT * FROM student WHERE id = %s;\", (1,))\n",
    "    print(cur.fetchone()['name']) #acts as dictionary"
   ]
  },
  {
   "cell_type": "code",
   "execution_count": 19,
   "metadata": {},
   "outputs": [],
   "source": [
    "conn.commit()\n",
    "cur.close()\n",
    "conn.close()"
   ]
  }
 ],
 "metadata": {
  "kernelspec": {
   "display_name": "Python 3.10.4 64-bit",
   "language": "python",
   "name": "python3"
  },
  "language_info": {
   "codemirror_mode": {
    "name": "ipython",
    "version": 3
   },
   "file_extension": ".py",
   "mimetype": "text/x-python",
   "name": "python",
   "nbconvert_exporter": "python",
   "pygments_lexer": "ipython3",
   "version": "3.10.4"
  },
  "orig_nbformat": 4,
  "vscode": {
   "interpreter": {
    "hash": "369f2c481f4da34e4445cda3fffd2e751bd1c4d706f27375911949ba6bb62e1c"
   }
  }
 },
 "nbformat": 4,
 "nbformat_minor": 2
}
